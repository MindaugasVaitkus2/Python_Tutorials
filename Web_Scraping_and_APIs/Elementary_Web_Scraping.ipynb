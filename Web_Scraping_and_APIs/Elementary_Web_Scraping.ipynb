{
 "cells": [
  {
   "cell_type": "markdown",
   "metadata": {},
   "source": [
    "---\n",
    "\n",
    "# Elementary Web Scraping\n",
    "\n",
    "#### Joshua G. Mausolf\n",
    "\n",
    "\n",
    "---"
   ]
  },
  {
   "cell_type": "markdown",
   "metadata": {},
   "source": [
    "## Preliminary Steps"
   ]
  },
  {
   "cell_type": "code",
   "execution_count": 19,
   "metadata": {
    "collapsed": false
   },
   "outputs": [],
   "source": [
    "#Import NLTK and Texts\n",
    "import nltk\n",
    "from nltk import *\n",
    "from nltk.book import *\n",
    "from nltk.corpus import stopwords\n",
    "\n",
    "#Import Web Scraping Modules\n",
    "from urllib import request\n",
    "from bs4 import BeautifulSoup\n",
    "\n",
    "#Command All Matplotlib Graphs to Appear in Inline in Notebook\n",
    "%matplotlib inline"
   ]
  },
  {
   "cell_type": "markdown",
   "metadata": {},
   "source": [
    "---"
   ]
  },
  {
   "cell_type": "markdown",
   "metadata": {},
   "source": [
    "## Elementary Web Scraping Using NLTK and Beautiful Soup"
   ]
  },
  {
   "cell_type": "markdown",
   "metadata": {},
   "source": [
    "#### *Suppose we want to write a utility function that takes a URL as its argument, and returns the contents of the URL, with all HTML markup removed. *\n",
    "\n",
    "#### How would we accomplish this?"
   ]
  },
  {
   "cell_type": "markdown",
   "metadata": {},
   "source": [
    "There are multiple ways of approaching this problem. One method is to follow the example as shown in the [NLTK Book, Chapter 3](http://www.nltk.org/book/ch03.html). This method, however does not fully utilize [BeautifulSoup](https://www.crummy.com/software/BeautifulSoup/bs4/doc/), and as a result, the output is not exactly the desired content.\n",
    "\n",
    "HTML is a complex syntax with not only written text of paragraphs but also menu items, drop-down fields, and links, among other facets. If we want to read a content of a given page, we generally are interested in the text content, rather than all content, headers, meta-data, and so forth. \n",
    "\n",
    "#### Below, I first demonstrate the NLTK method, which can be used to return a webpage, remove HTML with BeautifulSoup, and tokenize the results."
   ]
  },
  {
   "cell_type": "code",
   "execution_count": 42,
   "metadata": {
    "collapsed": false
   },
   "outputs": [],
   "source": [
    "def nltk_web_read(url, _raw=0, words=1):\n",
    "    \"\"\"\n",
    "    -----------------------------------------------------\n",
    "    This function returns the text of a website for a\n",
    "    given url\n",
    "    -----------------------------------------------------\n",
    "    OPTIONS\n",
    "    -----------------------------------------------------\n",
    "    - _raw = option to return raw text from HTML\n",
    "            - 0 = no (default)\n",
    "            - 1 = yes, return raw text\n",
    "    -----------------------------------------------------\n",
    "    - words = option to return word tokens from HTML\n",
    "            - 1 = return all words (default)\n",
    "            - 2 = return only alphanumeric words\n",
    "    -----------------------------------------------------\n",
    "    \"\"\"\n",
    "    \n",
    "    #Import Modules\n",
    "    from urllib import request\n",
    "    from bs4 import BeautifulSoup\n",
    "\n",
    "\n",
    "    response = request.urlopen(url)\n",
    "    html = response.read().decode('utf-8')\n",
    "\n",
    "    #Get Text from HTML\n",
    "    raw = BeautifulSoup(html, \"html5lib\").get_text()\n",
    "    raw[:200]\n",
    "    \n",
    "    #Options\n",
    "    \n",
    "    #Raw Text Option\n",
    "    if _raw==0:\n",
    "        pass\n",
    "    else:\n",
    "        print (raw[:200])\n",
    "        #return raw\n",
    "\n",
    "\n",
    "    #Get Tokens\n",
    "    tokens = word_tokenize(raw)\n",
    "\n",
    "    #Word Options\n",
    "\n",
    "    #All Words\n",
    "    if words==1:\n",
    "        print(tokens[:200])\n",
    "        #return tokens\n",
    "    \n",
    "    #Alphanumeric Words\n",
    "    elif words==2:\n",
    "        words = [w for w in tokens if w.isalnum()]\n",
    "        print (words[:200])\n",
    "        #return words\n"
   ]
  },
  {
   "cell_type": "markdown",
   "metadata": {},
   "source": [
    "#### Now that we have defined the function, let's look at the raw text for the NLTK website:"
   ]
  },
  {
   "cell_type": "code",
   "execution_count": 43,
   "metadata": {
    "collapsed": false
   },
   "outputs": [
    {
     "name": "stdout",
     "output_type": "stream",
     "text": [
      "\n",
      "    \n",
      "    \n",
      "    Natural Language Toolkit — NLTK 3.0 documentation\n",
      "    \n",
      "    \n",
      "    \n",
      "    \n",
      "    \n",
      "      var DOCUMENTATION_OPTIONS = {\n",
      "        URL_ROOT:    './',\n",
      "        VERSION:     '3.0',\n",
      "        COLLAPSE_IN\n",
      "['Natural', 'Language', 'Toolkit', '—', 'NLTK', '3.0', 'documentation', 'var', 'DOCUMENTATION_OPTIONS', '=', '{', 'URL_ROOT', ':', \"'./\", \"'\", ',', 'VERSION', ':', \"'3.0\", \"'\", ',', 'COLLAPSE_INDEX', ':', 'false', ',', 'FILE_SUFFIX', ':', \"'.html\", \"'\", ',', 'HAS_SOURCE', ':', 'true', '}', ';', 'NLTK', '3.0', 'documentation', 'next', '|', 'modules', '|', 'index', 'Natural', 'Language', 'Toolkit¶', 'NLTK', 'is', 'a', 'leading', 'platform', 'for', 'building', 'Python', 'programs', 'to', 'work', 'with', 'human', 'language', 'data', '.', 'It', 'provides', 'easy-to-use', 'interfaces', 'to', 'over', '50', 'corpora', 'and', 'lexical', 'resources', 'such', 'as', 'WordNet', ',', 'along', 'with', 'a', 'suite', 'of', 'text', 'processing', 'libraries', 'for', 'classification', ',', 'tokenization', ',', 'stemming', ',', 'tagging', ',', 'parsing', ',', 'and', 'semantic', 'reasoning', ',', 'wrappers', 'for', 'industrial-strength', 'NLP', 'libraries', ',', 'and', 'an', 'active', 'discussion', 'forum', '.', 'Thanks', 'to', 'a', 'hands-on', 'guide', 'introducing', 'programming', 'fundamentals', 'alongside', 'topics', 'in', 'computational', 'linguistics', ',', 'plus', 'comprehensive', 'API', 'documentation', ',', 'NLTK', 'is', 'suitable', 'for', 'linguists', ',', 'engineers', ',', 'students', ',', 'educators', ',', 'researchers', ',', 'and', 'industry', 'users', 'alike', '.', 'NLTK', 'is', 'available', 'for', 'Windows', ',', 'Mac', 'OS', 'X', ',', 'and', 'Linux', '.', 'Best', 'of', 'all', ',', 'NLTK', 'is', 'a', 'free', ',', 'open', 'source', ',', 'community-driven', 'project', '.', 'NLTK', 'has', 'been', 'called', '“a', 'wonderful', 'tool', 'for', 'teaching', ',', 'and', 'working', 'in', ',', 'computational', 'linguistics', 'using', 'Python', ',', '”', 'and', '“an']\n"
     ]
    }
   ],
   "source": [
    "#Get All Raw Content\n",
    "url = \"http://www.nltk.org\"   \n",
    "nltk_web_read(url, 1)"
   ]
  },
  {
   "cell_type": "code",
   "execution_count": 44,
   "metadata": {
    "collapsed": false
   },
   "outputs": [
    {
     "name": "stdout",
     "output_type": "stream",
     "text": [
      "['Natural', 'Language', 'Toolkit', 'NLTK', 'documentation', 'var', 'VERSION', 'false', 'true', 'NLTK', 'documentation', 'next', 'modules', 'index', 'Natural', 'Language', 'NLTK', 'is', 'a', 'leading', 'platform', 'for', 'building', 'Python', 'programs', 'to', 'work', 'with', 'human', 'language', 'data', 'It', 'provides', 'interfaces', 'to', 'over', '50', 'corpora', 'and', 'lexical', 'resources', 'such', 'as', 'WordNet', 'along', 'with', 'a', 'suite', 'of', 'text', 'processing', 'libraries', 'for', 'classification', 'tokenization', 'stemming', 'tagging', 'parsing', 'and', 'semantic', 'reasoning', 'wrappers', 'for', 'NLP', 'libraries', 'and', 'an', 'active', 'discussion', 'forum', 'Thanks', 'to', 'a', 'guide', 'introducing', 'programming', 'fundamentals', 'alongside', 'topics', 'in', 'computational', 'linguistics', 'plus', 'comprehensive', 'API', 'documentation', 'NLTK', 'is', 'suitable', 'for', 'linguists', 'engineers', 'students', 'educators', 'researchers', 'and', 'industry', 'users', 'alike', 'NLTK', 'is', 'available', 'for', 'Windows', 'Mac', 'OS', 'X', 'and', 'Linux', 'Best', 'of', 'all', 'NLTK', 'is', 'a', 'free', 'open', 'source', 'project', 'NLTK', 'has', 'been', 'called', 'wonderful', 'tool', 'for', 'teaching', 'and', 'working', 'in', 'computational', 'linguistics', 'using', 'Python', 'and', 'amazing', 'library', 'to', 'play', 'with', 'natural', 'Natural', 'Language', 'Processing', 'with', 'Python', 'provides', 'a', 'practical', 'introduction', 'to', 'programming', 'for', 'language', 'processing', 'Written', 'by', 'the', 'creators', 'of', 'NLTK', 'it', 'guides', 'the', 'reader', 'through', 'the', 'fundamentals', 'of', 'writing', 'Python', 'programs', 'working', 'with', 'corpora', 'categorizing', 'text', 'analyzing', 'linguistic', 'structure', 'and', 'more', 'The', 'book', 'is', 'being', 'updated', 'for', 'Python', '3', 'and', 'NLTK', '3', 'The', 'original', 'Python', '2', 'version', 'is', 'still']\n"
     ]
    }
   ],
   "source": [
    "#Get ONLY Raw Text\n",
    "nltk_web_read(url, 0, 2)"
   ]
  },
  {
   "cell_type": "markdown",
   "metadata": {},
   "source": [
    "#### We see that parts of the function are still included, such as \"'var', 'VERSION', 'false', 'true'\". Such results would be misleading and confusing if we wanted to discover the content of the page because we are getting both the text and additional text items embedded in the page that are not necessarily HTML but rather part of the page design.\n",
    "\n",
    "---\n",
    "\n",
    "## Diving Into Beautiful Soup with HTML\n",
    "\n",
    "[**Beautiful Soup**](https://www.crummy.com/software/BeautifulSoup/bs4/doc/) offers another and better option. We can specify that we only want the text of a page, located within a particular HTML tag. While all pages differ, a typical setup is to find text within a paragraph ```<p> .... </p>``` set of tags. Typically, these are in the \"body\" of the HTML not the head. They are also typically nested under a hierarchy of ```<div>``` tags. \n",
    "\n",
    "**Example 1: NLTK Website **\n",
    "\n",
    "*http://www.nltk.org*\n",
    "\n",
    "```HTML\n",
    "            \n",
    "    <div class=\"section\" id=\"natural-language-toolkit\">\n",
    "    <h1>Natural Language Toolkit<a class=\"headerlink\" href=\"#natural-language-toolkit\" title=\"Permalink to this headline\">¶</a></h1>\n",
    "    <p>NLTK is a leading platform for building Python programs to work with human language data.\n",
    "    It provides easy-to-use interfaces to <a class=\"reference external\" href=\"http://nltk.org/nltk_data/\">over 50 corpora and lexical\n",
    "    resources</a> such as WordNet,\n",
    "    along with a suite of text processing libraries for classification, tokenization, stemming, tagging, parsing, and semantic reasoning,\n",
    "    wrappers for industrial-strength NLP libraries,\n",
    "    and an active <a class=\"reference external\" href=\"http://groups.google.com/group/nltk-users\">discussion forum</a>.</p>\n",
    "    <p>Thanks to a hands-on guide introducing programming fundamentals alongside topics in computational linguistics, plus comprehensive API documentation,\n",
    "    NLTK is suitable for linguists, engineers, students, educators, researchers, and industry users alike.</p></div>\n",
    " \n",
    "   \n",
    "```\n",
    "\n",
    "**Example 2: TheAtlantic Online**\n",
    "\n",
    "*http://www.theatlantic.com/politics/archive/2016/02/berniebro-revisited/460212/*\n",
    "\n",
    "\n",
    "``` HTML\n",
    "\n",
    "<div class=\"article-body\" itemprop=\"articleBody\">\n",
    "        \n",
    "        <section id=\"article-section-1\"><p>O reader, hear my plea: I am the victim of semantic drift.</p><p>Four months ago, I <a href=\"http://www.theatlantic.com/politics/archive/2015/10/here-comes-the-berniebro-bernie-sanders/411070/\" data-omni-click=\"r'article',r'link',r'0',r'460212'\">coined the term “Berniebro”</a> to describe a phenomenon I saw on Facebook: Men, mostly my age, mostly of my background, mostly with my political beliefs, were hectoring their friends about how great Bernie was even when their friends wanted to do something else, like talk about the NBA.</p> </section>\n",
    "    </div>\n",
    "\n",
    "```\n",
    "\n",
    "#### Each is only a small snippet of HTML. While we could specify that we only want content in a ``` div class=\"section\" ``` tag, each website varies in terms of the classes provided. It is typically unique to the website design and CSS.\n",
    "\n",
    "If we generalize to finding all text in paragraphs ```<p>``` subsumed under a ```<div>``` we can get the full text printed for most websites. \n",
    "\n",
    "---\n",
    "\n",
    "## Writing a Beautiful Soup Function\n",
    "\n",
    "Below I display this function followed by several examples.\n",
    "\n",
    "\n"
   ]
  },
  {
   "cell_type": "code",
   "execution_count": 22,
   "metadata": {
    "collapsed": false
   },
   "outputs": [],
   "source": [
    "def get_website_text(url, div_class=0, _return=0):\n",
    "    \"\"\"\n",
    "    -----------------------------------------------------\n",
    "    This function returns the text of a website for a\n",
    "    given URL using Beautiful Soup. \n",
    "    \n",
    "    The URL must be specified.\n",
    "    \n",
    "    If you do not know the HTML format but would like to \n",
    "    try parsing the URL, run as is. The parser looks for \n",
    "    the \"div\" class. However, depending on the webpage,\n",
    "    you may need to first inspect the HTML and specify\n",
    "    a \"div class=<input>\", where \"<input>\" could\n",
    "    be any number of unique strings specific to the \n",
    "    website.\n",
    "    \n",
    "    After finding the content tag, this function returns\n",
    "    text in the paragraph <p> tag.\n",
    "    \n",
    "    -----------------------------------------------------\n",
    "    OPTIONS\n",
    "    -----------------------------------------------------\n",
    "    - div_class = a specified class of the <div> tag\n",
    "        - 0 (default)\n",
    "            - looks for any div tags. Works on some \n",
    "            but not all websites.\n",
    "        - Any string\n",
    "            - looks for that string as a div class\n",
    "        \n",
    "        Example:\n",
    "        \n",
    "        get_website_text(url, \"content-wrapper\")\n",
    "        \n",
    "        This input looks for the tag\n",
    "        \n",
    "        <div class=\"content-wrapper\">. \n",
    "        \n",
    "    -----------------------------------------------------\n",
    "    - _return = option to return text for use in another\n",
    "                function. \n",
    "            - 0 = do not return, print instead (default)\n",
    "            - 1 = return text\n",
    "    -----------------------------------------------------\n",
    "    \"\"\"\n",
    "    \n",
    "    #Import Modules\n",
    "    from urllib import request\n",
    "    from bs4 import BeautifulSoup\n",
    "\n",
    "    #Get HTML from URL\n",
    "    response = request.urlopen(url)\n",
    "    html = response.read().decode('utf-8')\n",
    "\n",
    "    #Get Soup for Beautiful Soup\n",
    "    soup = BeautifulSoup(html, \"html5lib\")\n",
    "\n",
    "    #Class Option (Default=0)\n",
    "    \n",
    "    #Define Content\n",
    "    \n",
    "    #Look for Any Div Tag\n",
    "    if div_class ==0:\n",
    "        pass\n",
    "        content = soup.find(\"div\")\n",
    "        \n",
    "        #Parser Content Error Message\n",
    "        if len(str(content)) < 1000:\n",
    "            print (\"Your request may not be returning the desired results.\", '\\n' \\\n",
    "                      \"Consider inspecting the webpage and trying a different div tag\", '\\n')\n",
    "            print (\"CURRENT RESULTS:\", '\\n', content)\n",
    "        else:\n",
    "            pass\n",
    "    \n",
    "    \n",
    "    #Look for Specific Div Tag\n",
    "    else:\n",
    "        try:\n",
    "            content = soup.find(\"div\", {\"class\":str(div_class)})\n",
    "            \n",
    "            #Parser Content Error Message\n",
    "            if len(str(content)) < 1000:\n",
    "                print (\"Your request may not be returning the desired results.\", '\\n' \\\n",
    "                          \"Consider inspecting the webpage and trying a different div tag\", '\\n')\n",
    "                print (\"CURRENT RESULTS:\", '\\n', content)\n",
    "            else:\n",
    "                pass\n",
    "            \n",
    "        #Print Error Message For Failure\n",
    "        except:\n",
    "            print (\"Error: Please check your div class='input'.\", \\\n",
    "                   \"A valid 'input' must be specified\")\n",
    "            return\n",
    "\n",
    "    #Get Paragraph Body\n",
    "    paragraph = [\"\".join(x.findAll(text=True)) for x in content.findAll(\"p\")]\n",
    "    paragraph_body = \"\\n\\n%s\" % (\"\\n\\n\".join(paragraph))\n",
    "\n",
    "    \n",
    "    #Return Function Option\n",
    "    if _return==1:\n",
    "        return paragraph_body\n",
    "    else:\n",
    "        print (paragraph_body)\n",
    "        pass\n"
   ]
  },
  {
   "cell_type": "markdown",
   "metadata": {},
   "source": [
    "#### Now that we have defined this function, let us try it out."
   ]
  },
  {
   "cell_type": "code",
   "execution_count": 23,
   "metadata": {
    "collapsed": false
   },
   "outputs": [
    {
     "name": "stdout",
     "output_type": "stream",
     "text": [
      "Your request may not be returning the desired results. \n",
      "Consider inspecting the webpage and trying a different div tag \n",
      "\n",
      "CURRENT RESULTS: \n",
      " <div class=\"header-wrapper\" role=\"banner\">\n",
      "      <div class=\"header\">\n",
      "        <div class=\"headertitle\"><a href=\"#\">NLTK 3.0 documentation</a></div>\n",
      "        <div aria-label=\"related navigation\" class=\"rel\" role=\"navigation\">\n",
      "          <a accesskey=\"N\" href=\"news.html\" title=\"NLTK News\">next</a> |\n",
      "          <a href=\"py-modindex.html\" title=\"Python Module Index\">modules</a> |\n",
      "          <a accesskey=\"I\" href=\"genindex.html\" title=\"General Index\">index</a>\n",
      "        </div>\n",
      "       </div>\n",
      "    </div>\n",
      "\n",
      "\n",
      "\n"
     ]
    }
   ],
   "source": [
    "#Example NLTK Website\n",
    "url = \"http://www.nltk.org\"\n",
    "get_website_text(url)\n",
    "#get_website_text(url, \"content-wrapper\")"
   ]
  },
  {
   "cell_type": "markdown",
   "metadata": {},
   "source": [
    "### So the NLTK website does not happen to be compatible with the specified function. Let us try another website without inspecting the HTML syntax. How about a news article from the [*The Atlantic*](http://www.theatlantic.com/politics/archive/2016/02/berniebro-revisited/460212/)?\n",
    "\n",
    "![](https://cdn.theatlantic.com/assets/media/img/mt/2016/02/RTX24R4K/lead_960.jpg?1454705860)"
   ]
  },
  {
   "cell_type": "code",
   "execution_count": 61,
   "metadata": {
    "collapsed": false
   },
   "outputs": [
    {
     "name": "stdout",
     "output_type": "stream",
     "text": [
      "\n",
      "\n",
      "I coined the term—now I’ve come back to fix what I started.\n",
      "\n",
      "O reader, hear my plea: I am the victim of semantic drift.\n",
      "\n",
      "Four months ago, I coined the term “Berniebro” to describe a phenomenon I saw on Facebook: Men, mostly my age, mostly of my background, mostly with my political beliefs, were hectoring their friends about how great Bernie was even when their friends wanted to do something else, like talk about the NBA.\n",
      "\n",
      "In the post, I tried to gently suggest that maybe there were other ways to advance Sanders’s beliefs, many of which I share. I hinted, too, that I was not talking about every Sanders supporter. I did this subtly, by writing: “The Berniebro is not every Sanders supporter.”\n",
      "\n",
      "Then, 28,000 people shared the story on Facebook. The Berniebro was alive! Immediately, I started getting emails: Why did I hate progressivism? Why did I joke about politics? And how dare I generalize about every Bernie Sanders supporter?\n"
     ]
    }
   ],
   "source": [
    "#The Atlantic Online\n",
    "url = \"http://www.theatlantic.com/politics/archive/2016/02/berniebro-revisited/460212/\"\n",
    "text = get_website_text(url, 0, 1)\n",
    "\n",
    "#Print a Subset of the Text\n",
    "print(text[60:1000])"
   ]
  },
  {
   "cell_type": "markdown",
   "metadata": {},
   "source": [
    "### So this last example worked. Let's try another from the [White House, Speeches and Remarks](https://www.whitehouse.gov/the-press-office/2016/01/27/remarks-president-righteous-among-nations-award-ceremony) website.\n",
    "\n",
    "![](https://www.whitehouse.gov/sites/whitehouse.gov/files/letters-header2.jpg)"
   ]
  },
  {
   "cell_type": "code",
   "execution_count": 67,
   "metadata": {
    "collapsed": false
   },
   "outputs": [
    {
     "name": "stdout",
     "output_type": "stream",
     "text": [
      "\n",
      "\n",
      "\n",
      "\tEmbassy of Israel\n",
      "\n",
      "\n",
      "\tWashington, D.C.\n",
      "\n",
      "\n",
      "\t6:54 P.M. EST\n",
      "\n",
      "\n",
      "\t     THE PRESIDENT:  Thank you.  Thank you.  (Applause.)  Good evening.  Erev Tov. \n",
      "\n",
      "\n",
      "\t     The Talmud teaches that if a person destroys one life, it is as if they’ve destroyed an entire world, and if a person saves one life, it is as if they’ve saved an entire world.\n",
      "\n",
      "\n",
      "\tWhat an extraordinary honor to be with you as we honor four Righteous individuals whose courage is measured in the lives they saved -- one child, one refugee, one comrade at a time -- and who, in so doing, helped save our world.\n",
      "\n",
      "\n",
      "\tI deliver a lot of speeches.  Very rarely am I so humbled by the eloquence that has preceded me -- not just in words, but in the acts that we commemorate today.\n",
      "\n",
      "\n",
      "\tTo my dear friend, Steven Spielberg, thanks for your moving and generous words.  You spoke of the importance of finding your voice and using it for good, and I know that your work -- whether a masterpiece like Schindler’s List or the stories that you have so persistently preserved through the Shoah Foundation -- is deeply personal.  Steven once said that the story of the Shoah is the story that he was born to tell, rooted in those childhood memories that he just gave you a taste of -- the relatives lost, the stories you heard from your family.  And, Steven, the whole world is grateful that you found your voice, and for the good that you’ve done with that voice.  It will endure for generations.  And so, on behalf of all of us, we are grateful.\n",
      "\n",
      "\n",
      "\tTo Ambassador \n"
     ]
    }
   ],
   "source": [
    "#The White House\n",
    "url = \"https://www.whitehouse.gov/the-press-office/2016/01/27/remarks-president-righteous-among-nations-award-ceremony\"\n",
    "text = get_website_text(url, 0, 1)\n",
    "\n",
    "#Print a Subset of the Text\n",
    "print(text[0:1500])\n",
    "\n",
    "#To Print All of It\n",
    "#get_website_text(url)"
   ]
  },
  {
   "cell_type": "markdown",
   "metadata": {},
   "source": [
    "#### This also works without specifying the HTML syntax. Although not perfect, the text is far more readable output than if we use the prior NLTK method. The improvement here, beyond readability is that we are targeting only text in paragraph tags rather than all text on the website which may have little to do with the content. Note that if we want to analyze the above text using NLTK we would simply set the text as raw text and tokenize.\n",
    "\n",
    "\n",
    "---\n",
    "\n",
    "### Returning to NLTK for Some Analysis\n"
   ]
  },
  {
   "cell_type": "code",
   "execution_count": 26,
   "metadata": {
    "collapsed": false
   },
   "outputs": [
    {
     "name": "stdout",
     "output_type": "stream",
     "text": [
      "['Embassy', 'of', 'Israel', 'Washington', ',', 'D.C.', '6:54', 'P.M.', 'EST', 'THE', 'PRESIDENT', ':', 'Thank', 'you', '.', 'Thank', 'you', '.', '(', 'Applause', '.', ')', 'Good', 'evening', '.', 'Erev', 'Tov', '.', 'The', 'Talmud', 'teaches', 'that', 'if', 'a', 'person', 'destroys', 'one', 'life', ',', 'it', 'is', 'as', 'if', 'they’ve', 'destroyed', 'an', 'entire', 'world', ',', 'and', 'if', 'a', 'person', 'saves', 'one', 'life', ',', 'it', 'is', 'as', 'if', 'they’ve', 'saved', 'an', 'entire', 'world', '.', 'What', 'an', 'extraordinary', 'honor', 'to', 'be', 'with', 'you', 'as', 'we', 'honor', 'four', 'Righteous', 'individuals', 'whose', 'courage', 'is', 'measured', 'in', 'the', 'lives', 'they', 'saved', '--', 'one', 'child', ',', 'one', 'refugee', ',', 'one', 'comrade', 'at']\n"
     ]
    }
   ],
   "source": [
    "raw = get_website_text(url, 0, 1)\n",
    "tokens = word_tokenize(raw)\n",
    "print (tokens[:100])"
   ]
  },
  {
   "cell_type": "code",
   "execution_count": 33,
   "metadata": {
    "collapsed": false
   },
   "outputs": [],
   "source": [
    "# %load word_freq_nltk.py\n",
    "def words(text, k=10, r=0, sw=0):\n",
    "    \"\"\"This functions returns all alphabetic words of\n",
    "        a specified length for a given text.\n",
    "        \n",
    "    Defaults, k=10 and r=0, sw=0.\n",
    "    -------------------------------------------------    \n",
    "    - k = the length of the word. \n",
    "    -------------------------------------------------\n",
    "    - r = the evaluation option. \n",
    "        It takes values 0 (the default), 1, or 2.\n",
    "        0. \"equals\" | len(word) == k\n",
    "        1. \"less than\" | len(word) < k.\n",
    "        2. \"greater than\" | len(word) > k.\n",
    "    -------------------------------------------------\n",
    "    - sw = stop words (English)\n",
    "        Stop words are high-frequency words like \n",
    "        (the, to and also, is), among others.\n",
    "        \n",
    "        In this function, sw takes values\n",
    "        0 (the default) or 1. \n",
    "\n",
    "        The function prints an exception \n",
    "        statement if other values are entered.\n",
    "        \n",
    "    -------------------------------------------------\n",
    "    \"\"\"  \n",
    "\n",
    "    #Not Accounting for Stopwords\n",
    "    if sw == 0:\n",
    "        #Option to Return Words == K\n",
    "        if r == 0:\n",
    "            ucw = [w.lower() for w in text if w.isalpha() and len(w) == k ]\n",
    "            return ucw\n",
    "\n",
    "        #Option to Return Words < K\n",
    "        elif r == 1:\n",
    "            ucw = [w.lower() for w in text if w.isalpha() and len(w) < k ]\n",
    "            return ucw\n",
    "\n",
    "        #Option to Return Words > K\n",
    "        elif r == 2:\n",
    "            ucw = [w.lower() for w in text if w.isalpha() and len(w) > k ]\n",
    "            return ucw\n",
    "        else:\n",
    "            pass\n",
    "    \n",
    "    elif sw == 1:\n",
    "        #Option to Return Words == K\n",
    "        if r == 0:\n",
    "            ucw = [w.lower() for w in text if w.lower() not in stopwords.words('english') \\\n",
    "                   and w.isalpha() and len(w) == k]\n",
    "            return ucw\n",
    "\n",
    "        #Option to Return Words < K\n",
    "        elif r == 1:\n",
    "            ucw = [w.lower() for w in text if w.lower() not in stopwords.words('english') \\\n",
    "                   and w.isalpha() and len(w) < k]\n",
    "            return ucw\n",
    "\n",
    "        #Option to Return Words > K\n",
    "        elif r == 2:\n",
    "            ucw = [w.lower() for w in text if w.lower() not in stopwords.words('english') \\\n",
    "                   and w.isalpha() and len(w) > k]\n",
    "            return ucw\n",
    "        else:\n",
    "            pass\n",
    "    \n",
    "    else:\n",
    "        print (\"Please input a valid stopwords option: 0 = no, 1 = yes\")\n",
    "\n",
    "def freq_words(text, k=10, r=0, n=20, sw=0):\n",
    "    \"\"\"This function uses the words function to \n",
    "        generate a specified frequency distribtion,\n",
    "        of the most frequent words and related graph.\n",
    "        \n",
    "        You can specify word length, an equality option\n",
    "        (to look for words =, >, or <) a given length.\n",
    "        \n",
    "        You can specify how many words to return and\n",
    "        if you want to exclude stopwords.\n",
    "        \n",
    "    Defaults, k=10 and r=0, n=20, sw.\n",
    "    -------------------------------------------------    \n",
    "    - k = the length of the word. \n",
    "    -------------------------------------------------\n",
    "    - r = the evaluation option. \n",
    "        It takes values 0 (the default), 1, or 2.\n",
    "        0. \"equals\" | len(word) == k\n",
    "        1. \"less than\" | len(word) < k.\n",
    "        2. \"greater than\" | len(word) > k.\n",
    "    -------------------------------------------------\n",
    "    - n = the number of most common results. \n",
    "        The default value is 20. For example, if you\n",
    "        want to see the top 100 results, input 100.\n",
    "    -------------------------------------------------\n",
    "    - sw = stop words (English)\n",
    "        Stop words are high-frequency words like \n",
    "        (the, to and also, is), among others.\n",
    "        \n",
    "        In this function, sw takes values\n",
    "        0 (the default) or 1. \n",
    "\n",
    "        The function prints an exception \n",
    "        statement if other values are entered.\n",
    "        \n",
    "    -------------------------------------------------\n",
    "    \"\"\"        \n",
    "    \n",
    "    #Generate the Frequency Distribution for specified text, k, and r. \n",
    "    fdist = FreqDist(words(text, k, r, sw))\n",
    "    \n",
    "    #Clean up the Title of the Text\n",
    "    clean_title0 = str(text).replace(\"<Text: \", \"\").replace(\">\", \"\").replace('[', '').replace(']', '')\n",
    "    clean_title1 = clean_title0.replace(\"'\", '').replace('\"', '').replace(',', '')[0:10]+\"...\"\n",
    "    try:\n",
    "        c2 = clean_title1.split(\" by \")[0].title()\n",
    "    except:\n",
    "        c2 = clean_title0.title()\n",
    "    \n",
    "    #Creating Possible Titles\n",
    "    figtitle1 = \"Most Frequent \"+str(k)+\"-Letter Words in \"+c2\n",
    "    figtitle2 = \"Most Frequent Words Less Than \"+str(k)+\"-Letters in \"+c2\n",
    "    figtitle3 = \"Most Frequent Words Greater Than \"+str(k)+\"-Letters in \"+c2\n",
    "    figtitle4 = \"Most Frequent Words of Any Length \"+c2\n",
    "    figelse = \"Most Frequent Words in \"+c2\n",
    "    \n",
    "    #Setting the Title Based on Inputs\n",
    "\n",
    "    if r == 0:\n",
    "        figtitle = figtitle1\n",
    "    elif r == 1:\n",
    "        figtitle = figtitle2\n",
    "    elif r == 2 and k != 0:\n",
    "        figtitle = figtitle3\n",
    "    elif r == 2 and k == 0:\n",
    "        figtitle = figtitle4\n",
    "    else:\n",
    "        print (\"else\")\n",
    "        figtitle = figelse\n",
    "\n",
    "    #Print Plot and Most Common Words\n",
    "    fdist.plot(n, title=figtitle, cumulative=True)\n",
    "    print (figtitle+\":\", '\\n', fdist.most_common(n))\n",
    "    if sw == 1:\n",
    "        print (\"*NOTE: Excluding English Stopwords\")\n",
    "    else:\n",
    "        pass\n",
    "\n",
    "\n",
    "\n"
   ]
  },
  {
   "cell_type": "code",
   "execution_count": 41,
   "metadata": {
    "collapsed": false
   },
   "outputs": [
    {
     "data": {
      "image/png": "[encoded data removed]",
      "text/plain": [
       "<matplotlib.figure.Figure at 0x110ac8dd8>"
      ]
     },
     "metadata": {},
     "output_type": "display_data"
    },
    {
     "name": "stdout",
     "output_type": "stream",
     "text": [
      "Most Frequent Words Greater Than 7-Letters in Embassy Of...: \n",
      " [('righteous', 7), ('holocaust', 6), ('extraordinary', 6), ('survivors', 5), ('generation', 4), ('responsibility', 4), ('president', 4), ('individuals', 4), ('religious', 4), ('memories', 3), ('children', 3), ('minority', 3), ('government', 3), ('generations', 3), ('families', 3), ('compassion', 3), ('standing', 2), ('applause', 2), ('entirely', 2), ('christians', 2), ('countries', 2), ('particular', 2), ('expression', 2), ('soldiers', 2), ('opportunity', 2), ('indifference', 2), ('israelis', 2), ('together', 2), ('forcefully', 2), ('different', 2)]\n",
      "*NOTE: Excluding English Stopwords\n"
     ]
    }
   ],
   "source": [
    "#Get Top 30 Words > 7 Letter's in President Obama's Embassy Speech\n",
    "freq_words(tokens, 7, 2, 30, 1)"
   ]
  },
  {
   "cell_type": "code",
   "execution_count": null,
   "metadata": {
    "collapsed": true
   },
   "outputs": [],
   "source": [
    "freq_words(text5, 0, 2, 50, 1)"
   ]
  },
  {
   "cell_type": "markdown",
   "metadata": {},
   "source": [
    "### Now that we have established this function's utility for url's, what about the NLTK website, which did not work initially. Well, we can specify the correct ```<div>``` tag and get the results, as shown below:"
   ]
  },
  {
   "cell_type": "code",
   "execution_count": 17,
   "metadata": {
    "collapsed": false
   },
   "outputs": [
    {
     "name": "stdout",
     "output_type": "stream",
     "text": [
      "\n",
      "\n",
      "NLTK is a leading platform for building Python programs to work with human language data.\n",
      "It provides easy-to-use interfaces to over 50 corpora and lexical\n",
      "resources such as WordNet,\n",
      "along with a suite of text processing libraries for classification, tokenization, stemming, tagging, parsing, and semantic reasoning,\n",
      "wrappers for industrial-strength NLP libraries,\n",
      "and an active discussion forum.\n",
      "\n",
      "Thanks to a hands-on guide introducing programming fundamentals alongside topics in computational linguistics, plus comprehensive API documentation,\n",
      "NLTK is suitable for linguists, engineers, students, educators, researchers, and industry users alike.\n",
      "NLTK is available for Windows, Mac OS X, and Linux. Best of all, NLTK is a free, open source, community-driven project.\n",
      "\n",
      "NLTK has been called “a wonderful tool for teaching, and working in, computational linguistics using Python,”\n",
      "and “an amazing library to play with natural language.”\n",
      "\n",
      "Natural Language Processing with Python provides a practical\n",
      "introduction to programming for language processing.\n",
      "Written by the creators of NLTK, it guides the reader through the fundamentals\n",
      "of writing Python programs, working with corpora, categorizing text, analyzing linguistic structure,\n",
      "and more.\n",
      "The book is being updated for Python 3 and NLTK 3.\n",
      "(The original Python 2 version is still available at http://nltk.org/book_1ed.)\n",
      "\n",
      "Tokenize and tag some text:\n",
      "\n",
      "Identify named entities:\n",
      "\n",
      "Display a parse tree:\n",
      "\n",
      "NB. If you publish work that uses NLTK, please cite the NLTK book as\n",
      "follows:\n",
      "\n",
      "\n",
      "                Enter search terms or a module, class or function name.\n",
      "            \n"
     ]
    }
   ],
   "source": [
    "#Example NLTK Website, Specify the <div class = >\n",
    "url = \"http://www.nltk.org\"\n",
    "get_website_text(url, \"content-wrapper\")"
   ]
  },
  {
   "cell_type": "markdown",
   "metadata": {
    "collapsed": true
   },
   "source": [
    "#### Compared to the first attempt to capture the NLTK website text, the above result is much easier to read and illustrates the main text of the NLTK website versus other menus and behind the scenes text embedded in the HTML."
   ]
  },
  {
   "cell_type": "markdown",
   "metadata": {},
   "source": [
    "---"
   ]
  }
 ],
 "metadata": {
  "kernelspec": {
   "display_name": "Python 3",
   "language": "python",
   "name": "python3"
  },
  "language_info": {
   "codemirror_mode": {
    "name": "ipython",
    "version": 3
   },
   "file_extension": ".py",
   "mimetype": "text/x-python",
   "name": "python",
   "nbconvert_exporter": "python",
   "pygments_lexer": "ipython3",
   "version": "3.5.1"
  }
 },
 "nbformat": 4,
 "nbformat_minor": 0
}
